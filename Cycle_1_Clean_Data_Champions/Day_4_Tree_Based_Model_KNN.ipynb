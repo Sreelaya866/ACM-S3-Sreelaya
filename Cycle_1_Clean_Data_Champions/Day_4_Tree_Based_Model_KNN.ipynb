{
  "nbformat": 4,
  "nbformat_minor": 0,
  "metadata": {
    "colab": {
      "provenance": []
    },
    "kernelspec": {
      "name": "python3",
      "display_name": "Python 3"
    },
    "language_info": {
      "name": "python"
    }
  },
  "cells": [
    {
      "cell_type": "code",
      "source": [
        "import pandas as pd\n",
        "from sklearn.model_selection import train_test_split\n",
        "from sklearn.preprocessing import LabelEncoder\n",
        "from sklearn.tree import DecisionTreeClassifier\n",
        "from sklearn.ensemble import RandomForestClassifier\n",
        "from sklearn.neighbors import KNeighborsClassifier\n",
        "from sklearn.feature_selection import mutual_info_classif\n",
        "from sklearn.metrics import accuracy_score"
      ],
      "metadata": {
        "id": "YZUjGVCUWji1"
      },
      "execution_count": 17,
      "outputs": []
    },
    {
      "cell_type": "code",
      "source": [
        "df = pd.read_csv(\"/content/mental_health_workplace_survey.csv\")\n",
        "\n",
        "df.drop(columns=[\"EmployeeID\", \"Country\", \"JobRole\"], inplace=True)"
      ],
      "metadata": {
        "id": "LVm_ZxC5Wq61"
      },
      "execution_count": 18,
      "outputs": []
    },
    {
      "cell_type": "markdown",
      "source": [
        "We are dropping unnesessary columns like employee id country and job role as they dont have any meaning and are of high cardinality"
      ],
      "metadata": {
        "id": "5_vaH-FkWw1w"
      }
    },
    {
      "cell_type": "code",
      "source": [
        "for col in df.select_dtypes(include='object'):\n",
        "    df[col] = LabelEncoder().fit_transform(df[col].astype(str))\n",
        "df.dropna(inplace=True)"
      ],
      "metadata": {
        "id": "VlQh7cw6Wjf-"
      },
      "execution_count": 19,
      "outputs": []
    },
    {
      "cell_type": "code",
      "source": [
        "X = df.drop(\"BurnoutRisk\", axis=1)\n",
        "y = df[\"BurnoutRisk\"]\n",
        "\n",
        "X_train, X_test, y_train, y_test = train_test_split(X, y, stratify=y, random_state=0)"
      ],
      "metadata": {
        "id": "e-iKed00daRe"
      },
      "execution_count": 20,
      "outputs": []
    },
    {
      "cell_type": "code",
      "source": [
        "# Decision Tree\n",
        "dt = DecisionTreeClassifier(random_state=0)\n",
        "dt.fit(X_train, y_train)\n",
        "dt_preds = dt.predict(X_test)\n",
        "print(\"Decision Tree - Accuracy:\", accuracy_score(y_test, dt_preds))"
      ],
      "metadata": {
        "colab": {
          "base_uri": "https://localhost:8080/"
        },
        "id": "0O_Y9fNCfXL7",
        "outputId": "af1942fb-9bcd-49d0-f6b7-ebf59004f8b7"
      },
      "execution_count": 21,
      "outputs": [
        {
          "output_type": "stream",
          "name": "stdout",
          "text": [
            "Decision Tree - Accuracy: 1.0\n"
          ]
        }
      ]
    },
    {
      "cell_type": "code",
      "source": [
        "# Random Forest\n",
        "rf = RandomForestClassifier(random_state=0)\n",
        "rf.fit(X_train, y_train)\n",
        "rf_preds = rf.predict(X_test)\n",
        "print(\"Random Forest - Accuracy:\", accuracy_score(y_test, rf_preds))\n"
      ],
      "metadata": {
        "colab": {
          "base_uri": "https://localhost:8080/"
        },
        "id": "xitAe6V_daPJ",
        "outputId": "92b31534-793a-4956-bbbc-1bf4413aedcc"
      },
      "execution_count": 22,
      "outputs": [
        {
          "output_type": "stream",
          "name": "stdout",
          "text": [
            "Random Forest - Accuracy: 1.0\n"
          ]
        }
      ]
    },
    {
      "cell_type": "code",
      "source": [
        "#KNN\n",
        "knn = KNeighborsClassifier()\n",
        "knn.fit(X_train, y_train)\n",
        "knn_preds = knn.predict(X_test)\n",
        "print(\"k-NN - Accuracy:\", accuracy_score(y_test, knn_preds))"
      ],
      "metadata": {
        "colab": {
          "base_uri": "https://localhost:8080/"
        },
        "id": "sKSwEjwwfeBx",
        "outputId": "9fc0bbdf-5b76-46ac-f902-5b070a077a3d"
      },
      "execution_count": 23,
      "outputs": [
        {
          "output_type": "stream",
          "name": "stdout",
          "text": [
            "k-NN - Accuracy: 0.7173333333333334\n"
          ]
        }
      ]
    },
    {
      "cell_type": "code",
      "source": [
        "mi = mutual_info_classif(X, y, random_state=0)\n",
        "mi_scores = pd.Series(mi, index=X.columns).sort_values(ascending=False)\n",
        "top3 = mi_scores.head(3).index\n",
        "print(\"Top 3 Features:\")\n",
        "print( mi_scores.head(3))"
      ],
      "metadata": {
        "colab": {
          "base_uri": "https://localhost:8080/"
        },
        "id": "JsCD9xKgfd_s",
        "outputId": "8e57ce8f-239d-4628-d206-5e4f926a16ee"
      },
      "execution_count": 24,
      "outputs": [
        {
          "output_type": "stream",
          "name": "stdout",
          "text": [
            "Top 3 Features:\n",
            "BurnoutLevel    0.631643\n",
            "Age             0.018457\n",
            "SleepHours      0.010094\n",
            "dtype: float64\n"
          ]
        }
      ]
    },
    {
      "cell_type": "code",
      "source": [
        "X_train3 = X_train[top3]\n",
        "X_test3 = X_test[top3]"
      ],
      "metadata": {
        "id": "BEI6lMw0fd9Z"
      },
      "execution_count": 25,
      "outputs": []
    },
    {
      "cell_type": "code",
      "source": [
        "#dec tree\n",
        "dt.fit(X_train3, y_train)\n",
        "dt_preds3 = dt.predict(X_test3)\n",
        "print(\"Decision Tree (Top 3) - Accuracy:\", accuracy_score(y_test, dt_preds3))\n"
      ],
      "metadata": {
        "colab": {
          "base_uri": "https://localhost:8080/"
        },
        "id": "Mp8W8EO3fd7k",
        "outputId": "22c9d88e-6270-49cf-a894-71dbc41a7a04"
      },
      "execution_count": 26,
      "outputs": [
        {
          "output_type": "stream",
          "name": "stdout",
          "text": [
            "Decision Tree (Top 3) - Accuracy: 1.0\n"
          ]
        }
      ]
    },
    {
      "cell_type": "code",
      "source": [
        "# random for\n",
        "rf.fit(X_train3, y_train)\n",
        "rf_preds3 = rf.predict(X_test3)\n",
        "print(\"Random Forest (Top 3) - Accuracy:\", accuracy_score(y_test, rf_preds3))\n"
      ],
      "metadata": {
        "colab": {
          "base_uri": "https://localhost:8080/"
        },
        "id": "9gaPAHgrfd46",
        "outputId": "68e62abe-5aea-40dd-eae3-5c5710aa6932"
      },
      "execution_count": 27,
      "outputs": [
        {
          "output_type": "stream",
          "name": "stdout",
          "text": [
            "Random Forest (Top 3) - Accuracy: 1.0\n"
          ]
        }
      ]
    },
    {
      "cell_type": "code",
      "source": [
        "#knn\n",
        "knn.fit(X_train3, y_train)\n",
        "knn_preds3 = knn.predict(X_test3)\n",
        "print(\"k-NN (Top 3) - Accuracy:\", accuracy_score(y_test, knn_preds3))\n"
      ],
      "metadata": {
        "colab": {
          "base_uri": "https://localhost:8080/"
        },
        "id": "MzXWnONffd2q",
        "outputId": "03f40680-db45-48e8-86bf-93de0fdbc28d"
      },
      "execution_count": 28,
      "outputs": [
        {
          "output_type": "stream",
          "name": "stdout",
          "text": [
            "k-NN (Top 3) - Accuracy: 0.9706666666666667\n"
          ]
        }
      ]
    },
    {
      "cell_type": "code",
      "source": [
        "print('comparison')\n",
        "print('decision tree ',accuracy_score(y_test, dt_preds), accuracy_score(y_test, dt_preds3))\n",
        "print('random forest ',accuracy_score(y_test, rf_preds), accuracy_score(y_test, rf_preds3))\n",
        "print('knn ',accuracy_score(y_test, knn_preds), accuracy_score(y_test, knn_preds3))"
      ],
      "metadata": {
        "colab": {
          "base_uri": "https://localhost:8080/"
        },
        "id": "wJMYHlR6fd0H",
        "outputId": "ac55f685-86a6-4612-876f-f614bb0284d6"
      },
      "execution_count": 29,
      "outputs": [
        {
          "output_type": "stream",
          "name": "stdout",
          "text": [
            "comparison\n",
            "decision tree  1.0 1.0\n",
            "random forest  1.0 1.0\n",
            "knn  0.7173333333333334 0.9706666666666667\n"
          ]
        }
      ]
    }
  ]
}